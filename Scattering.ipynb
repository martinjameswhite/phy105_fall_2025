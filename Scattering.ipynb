{
 "cells": [
  {
   "cell_type": "code",
   "execution_count": null,
   "id": "83e79e71-9242-4f9a-aaf5-28b06de10c59",
   "metadata": {},
   "outputs": [],
   "source": [
    "import numpy as np\n",
    "import matplotlib.pyplot as plt\n",
    "%matplotlib inline"
   ]
  },
  {
   "cell_type": "markdown",
   "id": "7d4790b3-9dc2-4535-b9d3-3a08f6d60207",
   "metadata": {},
   "source": [
    "# Scattering\n",
    "\n",
    "Let us consider a classical theory of scattering, specifically we have a potential fixed in space that falls off far from the origin and we imagine a large number of particles incident upon this from a large distance.  By examining the trajectories of the particles well after the scattering \"event\" we would try to reconstruct what happened.  Rather than use our \"scattering formalism\", developed in class, let us consider this to be a problem involving integrating the equations of motion for many particles in a potential.\n",
    "\n",
    "To make our lives just a little easier, let us assume $m_1/m_2\\to 0$, so that the lab frame and the COM frame are coincident and we can treat the scattering potential as \"fixed\" in space.  We will also work throughout in the $z=0$ plane, so this is effectively a 2D problem.  Both of these simplifications can be relaxed if needed."
   ]
  },
  {
   "cell_type": "markdown",
   "id": "451808ea-cb1d-49da-b4cd-5b92db1e53be",
   "metadata": {},
   "source": [
    "Let us consider the trial potential\n",
    "$$\n",
    "  V = \\frac{1}{1+r^2} \\quad\\mathrm{with}\\quad r^2=(x^2+y^2)\n",
    "$$\n",
    "in some units in polar coordinates, $(r,\\theta)$ or Cartesian coordinates, $(x,y)$.\n",
    "\n",
    "We take a \"beam\" of $N_p=128$ equally spaced, unit mass particles running vertifcally from $y=1$ to $y=8$ at $x=-20$ with $\\vec{v}_0=(1,0)$.  Note the potential is symmetric in $y\\to -y$ so we don't need to directly include particles with $y<0$.  If we didn't know that, we could obviously simulate those too.\n",
    "\n",
    "We are interested in the distribution of particles well after the scattering, i.e. as $x\\to\\infty$."
   ]
  },
  {
   "cell_type": "markdown",
   "id": "b37ca6db-291c-4e38-8472-34bbf40fa8c2",
   "metadata": {},
   "source": [
    "Our equations of motion are straightforward (recall $m=1$):\n",
    "$$\n",
    "  \\dot{\\vec{x}} = \\vec{p} \\quad , \\quad\n",
    "  \\dot{\\vec{p}} = -\\nabla V(\\vec{x}) = -\\frac{dV}{dr^2}\\nabla r^2\n",
    "$$\n",
    "with the initial conditions given above.\n",
    "\n",
    "**Note** Rather than simulating each particle individually, we can evolve them all simultaneously.  They don't interact at all, they're all feeling the same \"external\" potential $V$."
   ]
  },
  {
   "cell_type": "code",
   "execution_count": null,
   "id": "846a9c03-456e-4aa1-8ca6-cd4bfce65a57",
   "metadata": {},
   "outputs": [],
   "source": [
    "# Set up some variables for our problem -- start with the initial\n",
    "# conditions.\n",
    "# We have Np particles.  We store the dynamical variables\n",
    "# as x for particle 1, followed by x for particle 2, ...\n",
    "# followed by y for particle 1, y for particle 2, ...\n",
    "# followed by vx for particle 1, followed by ...\n",
    "# followed by vy for particle 1, followed by ...\n",
    "Np = 128            # The number of particles to follow.\n",
    "y0 = np.zeros(4*Np) # Positions and velocities for each dimension and each particle.\n",
    "y0[0*Np:1*Np] = -20.0                       # Initial x-position.\n",
    "y0[1*Np:2*Np] = np.linspace(1.0,8.0,Np)     # Initial y-position.\n",
    "y0[2*Np:3*Np] = 1.0                         # Initial vx.\n",
    "# and the initial y velocity is zero."
   ]
  },
  {
   "cell_type": "code",
   "execution_count": null,
   "id": "d9c75ab2-9fc6-4902-8aeb-82d1cc40b672",
   "metadata": {},
   "outputs": [],
   "source": [
    "def derivs(t,yy):\n",
    "    \"\"\"Returns dy given yy.\"\"\"\n",
    "    # Make space for the derivatives, and set the problem size.\n",
    "    NN = yy.size//4\n",
    "    dy = np.zeros_like(yy)\n",
    "    # Do a little unpacking to make the code easier to read.\n",
    "    xpos = yy[0*NN:1*NN]\n",
    "    ypos = yy[1*NN:2*NN] \n",
    "    r2   = xpos**2 + ypos**2 \n",
    "    V    = 1.0/(1.0+r2)\n",
    "    dVdr2= -1/(1+r2)**2\n",
    "    # FILL IN THE DERIVATIVES\n",
    "    dy[0*NN:2*NN] = ...\n",
    "    dy[2*NN:3*NN] = ...\n",
    "    dy[3*NN:4*NN] = ...\n",
    "    return(dy)\n",
    "    #"
   ]
  },
  {
   "cell_type": "code",
   "execution_count": null,
   "id": "3cf8f95e-f67a-453e-b744-2b21d5c02dc1",
   "metadata": {},
   "outputs": [],
   "source": [
    "from scipy.integrate import solve_ivp\n",
    "# Use high-accuracy settings in the integration.  This isn't\n",
    "# really necessary here, but it serves as an example of how\n",
    "# to do it if you ever need to.\n",
    "res = solve_ivp(derivs,[0,75],y0,t_eval=np.linspace(0,75,150),rtol=1e-5,method='DOP853')\n",
    "print(res)"
   ]
  },
  {
   "cell_type": "code",
   "execution_count": null,
   "id": "117933d9-c4c5-4c9b-ba83-61290249ec28",
   "metadata": {},
   "outputs": [],
   "source": [
    "fig,ax = plt.subplots(1,1,figsize=(10,5))\n",
    "#\n",
    "ax.plot([0],[0],'ko',ms=10) # Plot a \"scattering center\"\n",
    "for ipart in range(Np):\n",
    "    xpos = res.y[0*Np+ipart,:]\n",
    "    ypos = res.y[1*Np+ipart,:]\n",
    "    ax.plot(xpos,ypos,'-',color=str(0.9*float(ipart)/Np),\\\n",
    "            alpha=0.5,rasterized=True)\n",
    "#\n",
    "ax.set_xlim(-10,10)\n",
    "ax.set_ylim(-1 ,10)\n",
    "ax.set_xlabel(r'$x$')\n",
    "ax.set_ylabel(r'$y$')"
   ]
  },
  {
   "cell_type": "code",
   "execution_count": null,
   "id": "f5837708-6a20-4ecd-a3fb-b8f45a989d3b",
   "metadata": {},
   "outputs": [],
   "source": [
    "# Figure out the y-positions at x=10 -- some particles may not\n",
    "# have made it to x=10, if so we discard them (this turns out\n",
    "# not to happen in this case, but to keep things general...).\n",
    "ykeep = []\n",
    "for ipart in range(Np):\n",
    "    xpos = res.y[0*Np+ipart,:]\n",
    "    ypos = res.y[1*Np+ipart,:]\n",
    "    if np.max(xpos)>10.0:\n",
    "        ykeep.append(np.abs(np.interp(10.0,xpos,ypos)))\n",
    "# Plot a histogram.\n",
    "fig,ax = plt.subplots(1,1,figsize=(10,5))\n",
    "_ = ax.hist(ykeep,bins=np.linspace(4,8,41))\n",
    "#\n",
    "ax.set_xlabel(r'$y(x=10)$')\n",
    "ax.set_ylabel('Number')"
   ]
  },
  {
   "cell_type": "code",
   "execution_count": null,
   "id": "0358b040-011f-48ad-95bc-927c2fef96c0",
   "metadata": {},
   "outputs": [],
   "source": [
    "# We can also compute the scattering angle and plot a histogram of that.\n",
    "xvel = res.y[2*Np:3*Np,-1]\n",
    "yvel = res.y[3*Np:4*Np,-1]\n",
    "theta= np.arctan(yvel/xvel)\n",
    "#\n",
    "# Plot a histogram.\n",
    "fig,ax = plt.subplots(1,1,figsize=(10,5))\n",
    "_ = ax.hist(np.abs(theta),bins=np.linspace(0,np.pi/2,41))\n",
    "#\n",
    "ax.set_xlim(0,np.pi/2)\n",
    "ax.set_xlabel(r'$|\\theta|$ (radians)')\n",
    "ax.set_ylabel('Number')"
   ]
  },
  {
   "cell_type": "markdown",
   "id": "bcd82397-ec28-41b9-a686-ac73f60fe0ba",
   "metadata": {},
   "source": [
    "Compare the deflection to those we would obtain using the Born approximation for small-angle scattering.  You may do any required integrals numerically (the ```scipy.integrate``` routine ```quad``` is a reasonable choice).  At what angle, $\\theta_{\\rm true}$, does the error first rise to be 10\\%?"
   ]
  },
  {
   "cell_type": "code",
   "execution_count": null,
   "id": "9d59ea76-c22c-457d-b39b-db0830be3139",
   "metadata": {},
   "outputs": [],
   "source": [
    "from scipy.integrate import quad\n",
    "#\n",
    "def theta_born(b):\n",
    "    \"\"\"Computes theta for impact parameter b within the Born approximation.\"\"\"\n",
    "    FILL THIS IN\n",
    "    return(tt)"
   ]
  },
  {
   "cell_type": "code",
   "execution_count": null,
   "id": "3758c2aa-bffa-458c-a47d-ce594852461c",
   "metadata": {},
   "outputs": [],
   "source": [
    "theta_approx = [theta_born(b) for b in res.y[1*Np:2*Np,0]]\n",
    "#\n",
    "fig,ax = plt.subplots(1,2,figsize=(10,4))\n",
    "# First plot true against approximate:\n",
    "ax[0].scatter(theta,theta_approx)\n",
    "ax[0].plot([0,1],[0,1],'k:') # The truth.\n",
    "ax[0].set_aspect('equal')\n",
    "ax[0].set_xlim(0,1)\n",
    "ax[0].set_ylim(0,1)\n",
    "ax[0].set_xlabel(r'$\\theta_{\\rm true}$')\n",
    "ax[0].set_ylabel(r'$\\theta_{\\rm Born}$')\n",
    "# then plot the ratio against true:\n",
    "ax[1].scatter(theta,theta_approx/theta)\n",
    "ax[1].set_xlim(0,1)\n",
    "ax[1].set_ylim(1.0,1.2)\n",
    "ax[1].set_xlabel(r'$\\theta_{\\rm true}$')\n",
    "ax[1].set_ylabel(r'$\\theta_{\\rm Born} / \\theta_{\\rm true}$')"
   ]
  },
  {
   "cell_type": "markdown",
   "id": "3b05918d-95ad-4b10-896d-f90b17202eb1",
   "metadata": {},
   "source": [
    "We see that the Born approximation is not fantastically accurate even when $\\theta$ is \"small\".  We could gain more accuracy by going to higher order in our expansion or by solving for the deflection \"properly\" using our $V_{\\rm eff}$ formalism and the integrals derived in class.  But not today!"
   ]
  },
  {
   "cell_type": "markdown",
   "id": "44966f01-0d32-4787-91cd-7e6e10c1c5bf",
   "metadata": {},
   "source": [
    "***Note*** that computing the scattering cross section is now relatively straightforward -- we just need a scheme for computing the derivative of the scattering angle with respect to the impact parameter, which could be done via a spline fit, or finite differencing, or by differentating our integral expression for $\\theta(b)$ to get a new integral we do numerically."
   ]
  },
  {
   "cell_type": "markdown",
   "id": "2ebf77ea-8036-4cd2-9235-11c11fdcc196",
   "metadata": {},
   "source": [
    "# The End"
   ]
  }
 ],
 "metadata": {
  "kernelspec": {
   "display_name": "Python 3 (ipykernel)",
   "language": "python",
   "name": "python3"
  },
  "language_info": {
   "codemirror_mode": {
    "name": "ipython",
    "version": 3
   },
   "file_extension": ".py",
   "mimetype": "text/x-python",
   "name": "python",
   "nbconvert_exporter": "python",
   "pygments_lexer": "ipython3",
   "version": "3.11.13"
  }
 },
 "nbformat": 4,
 "nbformat_minor": 5
}
