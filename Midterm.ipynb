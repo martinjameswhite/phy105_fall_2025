{
 "cells": [
  {
   "cell_type": "code",
   "execution_count": null,
   "id": "64f95a03",
   "metadata": {
    "deletable": false,
    "editable": false
   },
   "outputs": [],
   "source": [
    "# Initialize Otter\n",
    "import otter\n",
    "grader = otter.Notebook(\"Midterm.ipynb\")"
   ]
  },
  {
   "cell_type": "code",
   "execution_count": null,
   "id": "5e2d3085-4454-4eb1-a410-a6b9e24d9de4",
   "metadata": {},
   "outputs": [],
   "source": [
    "import numpy as np"
   ]
  },
  {
   "cell_type": "markdown",
   "id": "e9895c47-7ce1-4203-90e2-e7287c87031c",
   "metadata": {},
   "source": [
    "# Midterm exam"
   ]
  },
  {
   "cell_type": "markdown",
   "id": "1a2e01ff-bccf-4798-97b2-4563b317f986",
   "metadata": {},
   "source": [
    "### Q1\n",
    "\n",
    "Consider a ball thrown vertically upward with initial speed $v_0$ against\n",
    "gravity, in a medium with quadratic resistance $f(v)=cv^2$.\n",
    "Define $v_{\\infty}=\\sqrt{mg/c}$ (the terminal velocity).\n",
    "\n",
    "(1.1) Use Newton's laws to find $\\dot{v}$ given $g$, $v$ and $v_\\infty$."
   ]
  },
  {
   "cell_type": "code",
   "execution_count": null,
   "id": "461224e1-d2ff-47c7-8e56-9c7ce0d5601c",
   "metadata": {
    "otter": {
     "tests": [
      "q1.1"
     ]
    },
    "tags": [
     "otter_answer_cell"
    ]
   },
   "outputs": [],
   "source": [
    "# Use Newton's laws to find vdot given g, v and vinf=sqrt{mg/c}.\n",
    "# Write a function that returns vdot, given g, v and vinf.\n",
    "def vdot(g,v,vinf):\n",
    "    ans = ...\n",
    "    return(ans)"
   ]
  },
  {
   "cell_type": "code",
   "execution_count": null,
   "id": "fe0e9566-c7ba-4ecf-8d61-734a820f2204",
   "metadata": {},
   "outputs": [],
   "source": [
    "#\n",
    "#\n",
    "#"
   ]
  },
  {
   "cell_type": "markdown",
   "id": "3fc85750-c09b-4914-bf4a-8bba788faed7",
   "metadata": {},
   "source": [
    "(1.2) If $y$ is the height of the ball use the identity $\\dot{v}=v\\,dv/dy$ to find $y(v)$."
   ]
  },
  {
   "cell_type": "code",
   "execution_count": null,
   "id": "a673cc6a-931d-4047-8242-3cfff5978b97",
   "metadata": {
    "otter": {
     "tests": [
      "q1.2"
     ]
    },
    "tags": [
     "otter_answer_cell"
    ]
   },
   "outputs": [],
   "source": [
    "# Analytically solve your ODE for y(v).\n",
    "# Write a function that returns y(v) given g, v, v0 and vinf.\n",
    "def y_of_v(g,v,v0,vinf):\n",
    "    ans = ...\n",
    "    return(ans)"
   ]
  },
  {
   "cell_type": "code",
   "execution_count": null,
   "id": "e819991b-201e-4b24-85cc-5253e2f092a6",
   "metadata": {},
   "outputs": [],
   "source": [
    "#\n",
    "#\n",
    "#"
   ]
  },
  {
   "cell_type": "markdown",
   "id": "9d932023-a89d-4b0a-9c6d-469aa964fa7e",
   "metadata": {},
   "source": [
    "(1.3) Hence find the maximum height of the ball in terms of $g$, $v_0$ and\n",
    "$v_{\\infty}$."
   ]
  },
  {
   "cell_type": "code",
   "execution_count": null,
   "id": "7ec2f90f-c66a-4f79-a280-ced92238f00e",
   "metadata": {
    "otter": {
     "tests": [
      "q1.3"
     ]
    },
    "tags": [
     "otter_answer_cell"
    ]
   },
   "outputs": [],
   "source": [
    "# Finally, write a function that returns ymax given g, v0 and vinf:\n",
    "def ymax(g,v0,vinf):\n",
    "    ans = ...\n",
    "    return(ans)"
   ]
  },
  {
   "cell_type": "markdown",
   "id": "f67d67ff-c753-481c-9737-8fa16657f493",
   "metadata": {},
   "source": [
    "### Q2"
   ]
  },
  {
   "cell_type": "markdown",
   "id": "ac033c61-d345-42db-809b-feeedd07f54d",
   "metadata": {},
   "source": [
    "Imagine you are on an artificial moon made up of a uniform sphere of material of radius $R$ and total mass $M$.  Your mass is insignificant compared to $M$.  The moon is spinning with angular velocity $\\Omega$ about an axis (which we shall choose to be $\\widehat{z}$) perpendicular to the equatorial plane (i.e. the $x-y$ plane).\n",
    "You are at rest on the outer surface of the sphere at zero longitude.\n",
    "                                                                                   \n",
    "Suppose that you determine your latitude, $\\Psi$, as the angle between the local gravity vector and the equatorial plane.  We will assume you can accurately find the equatorial plane from anywhere on the moon for the purposes of this problem.  The local gravity vector could be measured by a \"plumb line\" hanging vertically, i.e. a string with a heavy weight attached to one end."
   ]
  },
  {
   "cell_type": "markdown",
   "id": "d6727377-71fa-4c0f-8c21-5c936d4080b8",
   "metadata": {},
   "source": [
    "Suppose that your \"true\" co-latitude is $\\theta$, i.e. that $\\widehat{r}\\cdot\\widehat{z}=\\cos\\theta$ where $\\vec{r}$ is the vector from the center of the moon to your location"
   ]
  },
  {
   "cell_type": "markdown",
   "id": "bf981231-b10f-411d-8e1c-e2701ee124ea",
   "metadata": {},
   "source": [
    "(2.1) What is the amplitude of the centrifugal acceleration, in terms of $g$, $h\\equiv R\\,\\Omega^2$ and $\\cos\\theta$?.\n",
    "\n",
    "Throughout you may assume $h<g$."
   ]
  },
  {
   "cell_type": "code",
   "execution_count": null,
   "id": "be41fd9e-d153-463b-8535-3f31a81ff7e3",
   "metadata": {
    "otter": {
     "tests": [
      "q2.1"
     ]
    },
    "tags": [
     "otter_answer_cell"
    ]
   },
   "outputs": [],
   "source": [
    "# Work in coordinates with the origin at the center of\n",
    "# mass of the moon with the zhat axis being the spin axis\n",
    "# and phi of the usual spherical polar coordinates being\n",
    "# longitude.\n",
    "# What is the amplitude of the centrifugal acceleration,\n",
    "# in terms of g, h and cos(theta)?\n",
    "def a_centrifugal(g,h,cos_theta):\n",
    "    ans = ...\n",
    "    return(ans)"
   ]
  },
  {
   "cell_type": "code",
   "execution_count": null,
   "id": "40175b4c-c0b7-4280-b7f0-fd476f1065d6",
   "metadata": {},
   "outputs": [],
   "source": [
    "#\n",
    "#\n",
    "#"
   ]
  },
  {
   "cell_type": "markdown",
   "id": "6732ca2e-70ba-4641-9d86-953564831d0a",
   "metadata": {},
   "source": [
    "(2.2) What is the relation between your locally-determined latitude, $\\Psi$, and the polar angle, $\\theta$, between the spin axis and the radial vector from the moon's center of mass to your position?\n",
    "\n",
    "Specifically, return $\\sin\\Psi$ as a function of $g$, $\\cos\\theta$ and\n",
    "$h\\equiv R\\,\\Omega^2$; you may assume $h<g$.  Remember that $\\Psi$ is a latitude while $\\theta$ is a co-latitude, so be careful!\n",
    "\n",
    "[Hint: you should find $\\Psi=90^\\circ$ when $\\theta=0$.]"
   ]
  },
  {
   "cell_type": "code",
   "execution_count": null,
   "id": "c30d1429-71d4-4d3e-9595-affc695ef2bb",
   "metadata": {
    "otter": {
     "tests": [
      "q2.2"
     ]
    },
    "tags": [
     "otter_answer_cell"
    ]
   },
   "outputs": [],
   "source": [
    "# What is the sin of your locally determined latitude?\n",
    "def sinPsi(g,h,cos_theta):\n",
    "    ans = ...\n",
    "    return(ans)"
   ]
  },
  {
   "cell_type": "markdown",
   "id": "1945fe1c-138e-4fd1-b343-a0f63fcddf51",
   "metadata": {},
   "source": [
    "### Q3"
   ]
  },
  {
   "cell_type": "markdown",
   "id": "971dff1f-4f82-49af-be91-d2534fe6a7ab",
   "metadata": {},
   "source": [
    "A bead of mass $m$ slides freely on a smooth parabolic wire, $y=(1/2)b\\,x^2$ in a uniform gravitational field of acceleration $g$."
   ]
  },
  {
   "cell_type": "markdown",
   "id": "c455f073-b157-4eb9-a6d7-3d047663cc24",
   "metadata": {},
   "source": [
    "(3.1) What is the kinetic energy as a function of $m$, $b$, $x$ and $\\dot{x}$?"
   ]
  },
  {
   "cell_type": "code",
   "execution_count": null,
   "id": "764070ef-95bf-4d22-af0d-fb8a97c54870",
   "metadata": {
    "otter": {
     "tests": [
      "q3.1"
     ]
    },
    "tags": [
     "otter_answer_cell"
    ]
   },
   "outputs": [],
   "source": [
    "# What is the kinetic energy as a function of m, b, x and xdot?\n",
    "def kinetic_energy(m,b,x,xdot):\n",
    "    ans = ...\n",
    "    return(ans)"
   ]
  },
  {
   "cell_type": "code",
   "execution_count": null,
   "id": "7949b949-a16a-4667-9776-366450a439a2",
   "metadata": {},
   "outputs": [],
   "source": [
    "#\n",
    "#\n",
    "#"
   ]
  },
  {
   "cell_type": "markdown",
   "id": "38a71093-05e8-4e72-82aa-1a8424bcf9c2",
   "metadata": {},
   "source": [
    "(3.2) What is the canonical momentum, $p_x$, as a function of $m$, $b$, $g$, $x$ and $\\dot{x}$?"
   ]
  },
  {
   "cell_type": "code",
   "execution_count": null,
   "id": "3ebdca71-fe22-47dd-8a53-9243179e23cd",
   "metadata": {
    "otter": {
     "tests": [
      "q3.2"
     ]
    },
    "tags": [
     "otter_answer_cell"
    ]
   },
   "outputs": [],
   "source": [
    "def momentum(m,b,g,x,xdot):\n",
    "    ans = ...\n",
    "    return(ans)"
   ]
  },
  {
   "cell_type": "code",
   "execution_count": null,
   "id": "08172082-115b-4e05-8a8b-319867f18a58",
   "metadata": {},
   "outputs": [],
   "source": [
    "#\n",
    "#\n",
    "#"
   ]
  },
  {
   "cell_type": "markdown",
   "id": "d51d0ad9-e309-4a76-81a4-cdb2624b47b4",
   "metadata": {},
   "source": [
    "(3.3) What is the total energy of the bead expressed as a function of $m$, $b$, $g$, $x$ and $p_x$ (the canonical momentum)?"
   ]
  },
  {
   "cell_type": "code",
   "execution_count": null,
   "id": "301ed938-0d87-45bc-8fce-a3f445c53650",
   "metadata": {
    "otter": {
     "tests": [
      "q3.3"
     ]
    },
    "tags": [
     "otter_answer_cell"
    ]
   },
   "outputs": [],
   "source": [
    "def total_energy(m,b,g,x,px):\n",
    "    ans = ...\n",
    "    return(ans)"
   ]
  },
  {
   "cell_type": "markdown",
   "id": "b550201e-354d-4322-b7e0-2f148624175c",
   "metadata": {},
   "source": [
    "### Q4"
   ]
  },
  {
   "cell_type": "markdown",
   "id": "c5a45216-464f-441f-ba8b-abd2e713f3af",
   "metadata": {},
   "source": [
    "Consider a disk of mass $M$, radius $R$ and moment of inertia $I$ which is rolling (without slipping) on a plane inclined at an angle $\\alpha$.\n",
    "The center of the disk is attached to a (massless) spring, of constant $k$, which is also attached to the upper end of the plane such that the spring extends parallel to the plane."
   ]
  },
  {
   "cell_type": "markdown",
   "id": "6a9e056f-2c15-41fe-bfe2-10daed196d16",
   "metadata": {},
   "source": [
    "(4.1) Let $x$ be the extension of the spring parallel to the plane.  Let $\\theta$ be the angle through which the disk rolls.  Write the kinetic energy of the disk in terms of $M$, $I$, $\\dot{x}$ and $\\dot{\\theta}$."
   ]
  },
  {
   "cell_type": "code",
   "execution_count": null,
   "id": "78656214-a16a-4999-b819-280d0a54b447",
   "metadata": {
    "otter": {
     "tests": [
      "q4.1"
     ]
    },
    "tags": [
     "otter_answer_cell"
    ]
   },
   "outputs": [],
   "source": [
    "# Write the kinetic energy of the disk in terms of M, I, xdot and\n",
    "# theta_dot\n",
    "def disk_ke(M,I,xdot,theta_dot):\n",
    "    ans = ...\n",
    "    return(ans)"
   ]
  },
  {
   "cell_type": "code",
   "execution_count": null,
   "id": "75ceb374-5b50-4dbb-8902-999ed5e4afac",
   "metadata": {},
   "outputs": [],
   "source": [
    "#\n",
    "#\n",
    "#"
   ]
  },
  {
   "cell_type": "markdown",
   "id": "d62f0b75-2db4-4065-a1fd-3f1c23e4b0e0",
   "metadata": {},
   "source": [
    "(4.2) Define the zero of the potential energy to be at $x=0$.\n",
    "What is $V(M,g,k,I,R,\\sin\\alpha,x)$?"
   ]
  },
  {
   "cell_type": "code",
   "execution_count": null,
   "id": "926f6435-c040-44c9-a7a9-e2226ccf32fb",
   "metadata": {
    "otter": {
     "tests": [
      "q4.2"
     ]
    },
    "tags": [
     "otter_answer_cell"
    ]
   },
   "outputs": [],
   "source": [
    "# Write the potential energy in terms of M, g, k, I, R, sin_alpha and x:\n",
    "def potential_energy(M,g,k,I,R,sin_alpha,x):\n",
    "    ans = ...\n",
    "    return(ans)"
   ]
  },
  {
   "cell_type": "code",
   "execution_count": null,
   "id": "a2fc3dc1-1c58-4c2c-bf53-71c1d978b6d4",
   "metadata": {},
   "outputs": [],
   "source": [
    "#\n",
    "#\n",
    "#"
   ]
  },
  {
   "cell_type": "markdown",
   "id": "b1a6bcde-a4c9-4177-9e60-3b7a7ad1c006",
   "metadata": {},
   "source": [
    "(4.3) What is the Lagrangian in terms of $M$, $g$, $k$, $I$, $R$, $\\sin\\alpha$, $x$ and $\\dot{x}$?"
   ]
  },
  {
   "cell_type": "code",
   "execution_count": null,
   "id": "e0c25256-0419-4d9b-8cb9-0c2ad1ca55b3",
   "metadata": {
    "otter": {
     "tests": [
      "q4.3"
     ]
    },
    "tags": [
     "otter_answer_cell"
    ]
   },
   "outputs": [],
   "source": [
    "# Write the Lagrangian in terms of M, g, k, I, R, sin_alpha, x, xdot.\n",
    "def lagrangian(M,g,k,I,R,sin_alpha,x,xdot):\n",
    "    ans = ...\n",
    "    return(ans)"
   ]
  },
  {
   "cell_type": "code",
   "execution_count": null,
   "id": "c08bebd5-7986-4cb7-9844-31a4d970de4a",
   "metadata": {},
   "outputs": [],
   "source": [
    "#\n",
    "#\n",
    "#"
   ]
  },
  {
   "cell_type": "markdown",
   "id": "44f89152-3c8e-4dfb-ba54-d9550b26cca2",
   "metadata": {},
   "source": [
    "(4.4) What is the equilibrium extension of the spring, $x_0$, in terms of $M$, $g$, $k$, $I$, $R$ and $\\sin\\alpha$?"
   ]
  },
  {
   "cell_type": "code",
   "execution_count": null,
   "id": "1ee6bb3c-67e6-4f3e-8246-5012cc23d06c",
   "metadata": {
    "otter": {
     "tests": [
      "q4.4"
     ]
    },
    "tags": [
     "otter_answer_cell"
    ]
   },
   "outputs": [],
   "source": [
    "# What is the equilibrium extension of the spring, x0, in\n",
    "# terms of M, g, k, I, R, sin_alpha?\n",
    "def equilibrium_extension(M,g,k,I,R,sin_alpha):\n",
    "    ans = ...\n",
    "    return(ans)"
   ]
  },
  {
   "cell_type": "code",
   "execution_count": null,
   "id": "089c8327-3a31-44d5-ac1f-5274b18b4803",
   "metadata": {},
   "outputs": [],
   "source": [
    "#\n",
    "#\n",
    "#"
   ]
  },
  {
   "cell_type": "markdown",
   "id": "72146b8a-5a30-4bca-8b4e-0c4d899957e5",
   "metadata": {},
   "source": [
    "(4.5) Return the frequency of oscillations of the disk as a function of $k$, $M$, $I$ and $R$."
   ]
  },
  {
   "cell_type": "code",
   "execution_count": null,
   "id": "3c150cea-f86d-498e-8f89-45c4eeb58b0a",
   "metadata": {
    "otter": {
     "tests": [
      "q4.5"
     ]
    },
    "tags": [
     "otter_answer_cell"
    ]
   },
   "outputs": [],
   "source": [
    "# What is the frequency of oscillations?\n",
    "def omega(M,g,k,I,R,sin_alpha):\n",
    "    ans = ...\n",
    "    return(ans)"
   ]
  },
  {
   "cell_type": "markdown",
   "id": "5512fc38",
   "metadata": {
    "deletable": false,
    "editable": false
   },
   "source": [
    "## Submission\n",
    "\n",
    "Make sure you have run all cells in your notebook in order before running the cell below, so that all images/graphs appear in the output. The cell below will generate a zip file for you to submit.\n",
    "\n",
    "Upload the .ipynb or .zip file to Gradescope!"
   ]
  },
  {
   "cell_type": "code",
   "execution_count": null,
   "id": "2c71f918",
   "metadata": {
    "deletable": false,
    "editable": false
   },
   "outputs": [],
   "source": [
    "grader.export(pdf=False, force_save=True, run_tests=True)"
   ]
  },
  {
   "cell_type": "markdown",
   "id": "dd94d01c",
   "metadata": {},
   "source": [
    " "
   ]
  }
 ],
 "metadata": {
  "kernelspec": {
   "display_name": "Python 3 (ipykernel)",
   "language": "python",
   "name": "python3"
  },
  "language_info": {
   "codemirror_mode": {
    "name": "ipython",
    "version": 3
   },
   "file_extension": ".py",
   "mimetype": "text/x-python",
   "name": "python",
   "nbconvert_exporter": "python",
   "pygments_lexer": "ipython3",
   "version": "3.11.13"
  },
  "otter": {
   "OK_FORMAT": true,
   "assignment_name": "Midterm",
   "tests": {
    "q1.1": {
     "name": "q1.1",
     "points": 5,
     "suites": [
      {
       "cases": [],
       "scored": true,
       "setup": "",
       "teardown": "",
       "type": "doctest"
      }
     ]
    },
    "q1.2": {
     "name": "q1.2",
     "points": 10,
     "suites": [
      {
       "cases": [],
       "scored": true,
       "setup": "",
       "teardown": "",
       "type": "doctest"
      }
     ]
    },
    "q1.3": {
     "name": "q1.3",
     "points": 10,
     "suites": [
      {
       "cases": [],
       "scored": true,
       "setup": "",
       "teardown": "",
       "type": "doctest"
      }
     ]
    },
    "q2.1": {
     "name": "q2.1",
     "points": 5,
     "suites": [
      {
       "cases": [],
       "scored": true,
       "setup": "",
       "teardown": "",
       "type": "doctest"
      }
     ]
    },
    "q2.2": {
     "name": "q2.2",
     "points": 10,
     "suites": [
      {
       "cases": [],
       "scored": true,
       "setup": "",
       "teardown": "",
       "type": "doctest"
      }
     ]
    },
    "q3.1": {
     "name": "q3.1",
     "points": 10,
     "suites": [
      {
       "cases": [],
       "scored": true,
       "setup": "",
       "teardown": "",
       "type": "doctest"
      }
     ]
    },
    "q3.2": {
     "name": "q3.2",
     "points": 5,
     "suites": [
      {
       "cases": [],
       "scored": true,
       "setup": "",
       "teardown": "",
       "type": "doctest"
      }
     ]
    },
    "q3.3": {
     "name": "q3.3",
     "points": 5,
     "suites": [
      {
       "cases": [],
       "scored": true,
       "setup": "",
       "teardown": "",
       "type": "doctest"
      }
     ]
    },
    "q4.1": {
     "name": "q4.1",
     "points": 10,
     "suites": [
      {
       "cases": [],
       "scored": true,
       "setup": "",
       "teardown": "",
       "type": "doctest"
      }
     ]
    },
    "q4.2": {
     "name": "q4.2",
     "points": 5,
     "suites": [
      {
       "cases": [],
       "scored": true,
       "setup": "",
       "teardown": "",
       "type": "doctest"
      }
     ]
    },
    "q4.3": {
     "name": "q4.3",
     "points": 5,
     "suites": [
      {
       "cases": [],
       "scored": true,
       "setup": "",
       "teardown": "",
       "type": "doctest"
      }
     ]
    },
    "q4.4": {
     "name": "q4.4",
     "points": 10,
     "suites": [
      {
       "cases": [],
       "scored": true,
       "setup": "",
       "teardown": "",
       "type": "doctest"
      }
     ]
    },
    "q4.5": {
     "name": "q4.5",
     "points": 10,
     "suites": [
      {
       "cases": [],
       "scored": true,
       "setup": "",
       "teardown": "",
       "type": "doctest"
      }
     ]
    }
   }
  }
 },
 "nbformat": 4,
 "nbformat_minor": 5
}
