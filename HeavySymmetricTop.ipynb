{
 "cells": [
  {
   "cell_type": "code",
   "execution_count": null,
   "id": "aac21b9a-b5c9-4667-9745-58f365f3064e",
   "metadata": {},
   "outputs": [],
   "source": [
    "import numpy as np\n",
    "import matplotlib.pyplot as plt\n",
    "from mpl_toolkits.mplot3d import Axes3D\n",
    "%matplotlib inline"
   ]
  },
  {
   "cell_type": "code",
   "execution_count": null,
   "id": "dc4cb378-c584-4667-80f4-9db18b4e3e11",
   "metadata": {},
   "outputs": [],
   "source": [
    "from scipy.integrate import solve_ivp"
   ]
  },
  {
   "cell_type": "markdown",
   "id": "40930593-1178-4a85-a637-17fca189e4fa",
   "metadata": {},
   "source": [
    "## Heavy, symmetric top\n",
    "\n",
    "An important problem in rigid body dynamics is the heavy symmetrical top with one point fixed which we investigated in lecture.  For this problem $I_1=I_2\\ne I_3$.\n",
    "\n",
    "Recall the top is uniform and has one point on the symmetry ($z$-) axis fixed, so it's configuration is completely given by the Euler angles: $\\theta$ gives the inclination of the top to the vertical, $\\phi$ the azimuth of the top about the vertical and $\\psi$ the rotation angle about the top axis.  As the top moves its motion in $\\theta$ is called \"nutation\" while its motion in $\\phi$ is \"precession\".\n",
    "\n",
    "Then from class we have\n",
    "$$\n",
    "  T = \\frac{1}{2} I_1 \\left(\\dot{\\theta}^2+\\sin^2\\theta\\dot{\\phi}^2\\right)\n",
    "    + \\frac{1}{2} I_3 \\left(\\dot{\\psi}+\\cos\\theta\\dot{\\phi}\\right)^2\n",
    "$$\n",
    "while the potential energy is just that due to the center of mass\n",
    "$$\n",
    "  V = Mg\\ell\\cos\\theta\n",
    "$$\n",
    "if the center of mass is $\\ell$ from the fixed point.\n",
    "\n",
    "The Lagrangian is independent of $\\phi$ and $\\psi$ so we have two conserved (conjugate) momenta:\n",
    "$$\n",
    "  p_\\theta = \\left( I_1\\sin^2\\theta + I_3\\cos^2\\theta\\right)\\,\\dot{\\phi} + I_3\\cos\\theta\\ \\dot{\\psi}\n",
    "  \\quad\\mathrm{and}\\quad\n",
    "  p_\\psi = I_3\\left( \\dot{\\psi} + \\dot{\\phi}\\cos\\theta \\right)\n",
    "$$\n",
    "The $p_\\psi$ equation says that given $\\theta(t)$ and $\\phi(t)$ we can solve for $\\psi(t)$.  Since we don't really care about $\\psi$ for how the top moves we shall \"neglect\" this equation (knowing we could solve it if we ever needed $\\psi$).\n",
    "\n",
    "We can solve for $\\dot{\\phi}$ by noting that\n",
    "$$\n",
    "  p_\\phi - p_\\psi\\,\\cos\\theta = I_1\\sin^2\\theta\\,\\dot{\\phi} + I_3\\cos^2\\theta\\,\\dot{\\phi} + I_3\\cos\\theta\\,\\dot{\\psi}\n",
    "  - I_3\\cos\\theta\\,\\dot{\\psi} - I_3\\cos^2\\theta\\,\\dot{\\phi}\n",
    "  = I_1\\sin^2\\theta\\,\\dot{\\phi}\n",
    "$$\n",
    "If we define $p_\\psi \\equiv I_1 a$ and $p_\\phi \\equiv I_1 b$ with $a$ and $b$ constants then\n",
    "$$\n",
    "  \\dot{\\phi}\n",
    "  = \\frac{p_\\phi-p_\\psi\\,\\cos\\theta}{I_1\\,\\sin^2\\theta}\n",
    "  = \\frac{b-a\\cos\\theta}{\\sin^2\\theta}\n",
    "$$\n",
    "Thus once we know $\\theta(t)$ we can integrate this to get $\\phi(t)$ -- note\n",
    "depending upon the relative size of $a$ and $b$ we could have $\\dot{\\phi}$\n",
    "be positive or negative or even change sign!\n",
    "Energy conservation implied that $\\theta$ moves in an effective 1D potential\n",
    "$$\n",
    "  V_{\\rm eff}(\\theta) = Mg\\ell\\cos\\theta\n",
    "  + \\frac{I_1}{2}\\left( \\frac{b-a\\cos\\theta}{\\sin\\theta} \\right)^2\n",
    "$$\n",
    "and we can always choose units where $I_1=1$.  Comparing the expression for $V_{\\rm eff}$ above to the Hamiltonian we derived in class you should be able to see the mapping explicitly."
   ]
  },
  {
   "cell_type": "code",
   "execution_count": null,
   "id": "394610da-61ed-47c7-8fe5-063805a86f9d",
   "metadata": {},
   "outputs": [],
   "source": [
    "# Define the effective potential:\n",
    "def Veff(tt,a,b,Mgl):\n",
    "    return( Mgl*np.cos(tt)+0.5*( (b-a*np.cos(tt))/np.sin(tt) )**2 )"
   ]
  },
  {
   "cell_type": "code",
   "execution_count": null,
   "id": "e282b1ca-0032-405d-a8c5-a500f33c92e2",
   "metadata": {},
   "outputs": [],
   "source": [
    "# Just plot the effective potential for some values of a, b and Mgl.\n",
    "#\n",
    "tt     = np.linspace(0.01,0.99*np.pi,500)\n",
    "fig,ax = plt.subplots(1,1,figsize=(6,4))\n",
    "for pars in [ [0.0,1.0,0.0],[0.5,1.0,0.0],[0.5,1.0,1.0],\\\n",
    "             [0.5,1.0,2.0], [1.0,0.65,0.1] ]:\n",
    "    a,b,Mgl = pars\n",
    "    lbl     = '$a={:.2f}$, '.format(a) +\\\n",
    "              '$b={:.2f}$, '.format(b) +\\\n",
    "              r'$Mg\\ell='+'{:.2f}$'.format(Mgl)\n",
    "    ax.plot(tt/np.pi,Veff(tt,a,b,Mgl),label=lbl)\n",
    "#\n",
    "ax.legend()\n",
    "#\n",
    "ax.set_yscale('log')\n",
    "ax.set_xlabel(r'$\\theta/\\pi$')\n",
    "ax.set_ylabel(r'$V_{\\rm eff}(\\theta)$')\n",
    "plt.tight_layout()"
   ]
  },
  {
   "cell_type": "code",
   "execution_count": null,
   "id": "ddfdb779-4239-4b9d-8ff5-bbf0fc0effe0",
   "metadata": {},
   "outputs": [],
   "source": [
    "# Make exactly the same plot, but now make the x-axis cos(theta).\n",
    "#\n",
    "tt     = np.linspace(0.01,0.99*np.pi,500)\n",
    "cost   = np.cos(tt)\n",
    "fig,ax = plt.subplots(1,1,figsize=(6,4))\n",
    "for pars in [ [0.0,1.0,0.0],[0.5,1.0,0.0],[0.5,1.0,1.0],\\\n",
    "             [0.5,1.0,2.0], [1.0,0.65,0.1] ]:\n",
    "    a,b,Mgl = pars\n",
    "    lbl     = '$a={:.2f}$, '.format(a) +\\\n",
    "              '$b={:.2f}$, '.format(b) +\\\n",
    "              r'$Mg\\ell='+'{:.2f}$'.format(Mgl)\n",
    "    ax.plot(cost,Veff(tt,a,b,Mgl),label=lbl)\n",
    "#\n",
    "ax.legend()\n",
    "#\n",
    "ax.set_yscale('log')\n",
    "ax.set_xlabel(r'$\\cos\\theta$')\n",
    "ax.set_ylabel(r'$V_{\\rm eff}(\\theta)$')\n",
    "plt.tight_layout()"
   ]
  },
  {
   "cell_type": "code",
   "execution_count": null,
   "id": "0b1ca6f5-5766-44db-9e25-df152c155d05",
   "metadata": {},
   "outputs": [],
   "source": [
    "# Pick a configuration and \"energy\":\n",
    "a,b,Mgl = 1.0,0.65,0.1\n",
    "#\n",
    "theta0  = 0.2*np.pi\n",
    "E0      = Veff(theta0,a,b,Mgl)\n",
    "print(\"Energy E0={:f}\".format(E0))"
   ]
  },
  {
   "cell_type": "markdown",
   "id": "8a343fd3-fe0d-4ffc-aee9-1a551ba8907a",
   "metadata": {},
   "source": [
    "Now define the equations of motion, for which we need $-dV/d\\theta$.  We will pack our y array as $(\\theta,\\dot{\\theta},\\phi)$."
   ]
  },
  {
   "cell_type": "code",
   "execution_count": null,
   "id": "21d22441-1636-4455-ac3e-cd1bd0ca3cbe",
   "metadata": {},
   "outputs": [],
   "source": [
    "def derivs(t,y,a=0,b=0,Mgl=0):\n",
    "    dy    = np.zeros_like(y)\n",
    "    sint  = np.sin(y[0])\n",
    "    cost  = np.cos(y[0])\n",
    "    bac   = b-a*cost\n",
    "    accn  = Mgl*sint - a*bac/sint\n",
    "    accn += bac**2*cost/sint**3\n",
    "    #\n",
    "    dy[0] = y[1]\n",
    "    dy[1] = accn\n",
    "    dy[2] = bac/sint**2\n",
    "    return(dy)"
   ]
  },
  {
   "cell_type": "code",
   "execution_count": null,
   "id": "59ae2b2a-3aac-4f7c-9b96-aabfe02d01e2",
   "metadata": {},
   "outputs": [],
   "source": [
    "times = np.linspace(0,100,500)\n",
    "y0    = [theta0,0,0]     # Initial conditions.\n",
    "res   = solve_ivp(derivs,[times[0],times[-1]],y0,\\\n",
    "                  method='DOP853',t_eval=times,args=(a,b,Mgl))\n",
    "print(res)"
   ]
  },
  {
   "cell_type": "code",
   "execution_count": null,
   "id": "30e650e9-dbe6-478f-84fe-121eb21ec9b7",
   "metadata": {},
   "outputs": [],
   "source": [
    "fig,ax = plt.subplots(1,1,figsize=(6,4))\n",
    "#\n",
    "ax.plot(res.y[-1,:]/2/np.pi,np.cos(res.y[0,:]),color='C0')\n",
    "#\n",
    "ax.set_xlabel(r'$\\phi/2\\pi$')\n",
    "ax.set_ylabel(r'$\\cos\\theta$')\n",
    "fig.tight_layout()"
   ]
  },
  {
   "cell_type": "markdown",
   "id": "fc299731-c81c-4b95-ad5d-03f147791c09",
   "metadata": {},
   "source": [
    "Let's plot this on the surface of a sphere."
   ]
  },
  {
   "cell_type": "code",
   "execution_count": null,
   "id": "5c338bd3-bfdd-4b7a-92dd-3c1bda344eeb",
   "metadata": {},
   "outputs": [],
   "source": [
    "# Draw a 3D figure showing the motion of the tip of the top.\n",
    "# Note that we're neglecting the difference between z-x-z and\n",
    "# z-y-z Euler conventions because they're just a rotation here.\n",
    "fig = plt.figure(figsize=(8,8))\n",
    "ax  = fig.add_subplot(111, projection='3d')\n",
    "# Draw the sphere on in light grey.\n",
    "if True:\n",
    "    N = 20\n",
    "    theta, phi = np.linspace(0,np.pi,N),np.linspace(0,2*np.pi,2*N)\n",
    "    theta, phi = np.meshgrid(theta, phi)\n",
    "    x = np.sin(theta)*np.cos(phi)\n",
    "    y = np.sin(theta)*np.sin(phi)\n",
    "    z = np.cos(theta)\n",
    "    ax.plot_surface(x,y,z,alpha=.2,facecolors=[[\"w\"]*N]*2*N)\n",
    "# and then the tip of the top\n",
    "x = np.sin(res.y[0,:])*np.cos(res.y[-1,:])\n",
    "y = np.sin(res.y[0,:])*np.sin(res.y[-1,:])\n",
    "z = np.cos(res.y[0,:])\n",
    "ax.plot(x,y,z,lw=2,color='C1')\n",
    "#\n",
    "ax.set_xlim([-1.1,1.1])\n",
    "ax.set_ylim([-1.1,1.1])\n",
    "ax.set_zlim([-1.1,1.1])\n",
    "ax.set_aspect('equal')\n",
    "ax.set_xlabel(\"$x$\")\n",
    "ax.set_ylabel(\"$y$\")\n",
    "ax.set_zlabel(\"$z$\")"
   ]
  },
  {
   "cell_type": "markdown",
   "id": "9b2df2d0-f347-4515-9dd3-80e51ed4f049",
   "metadata": {},
   "source": [
    "Note that the axis of rotation of the top \"nutates\" between a minimum and maximum value of $\\theta$ while it precesses in $\\phi$.  In this case the precession can be in the positive or negative direction, allowing \"loops\"."
   ]
  },
  {
   "cell_type": "markdown",
   "id": "14850b29-cbd7-428e-b6ad-1ecdcf2d34fb",
   "metadata": {},
   "source": [
    "Try another configuration, to explore another kind of behavior.\n",
    "\n",
    "It is not uncommon to have the top spinning very fast ($a\\gg 1$) and initially start with $\\dot{\\theta}=\\dot{\\phi}=0$ at some $\\theta_0$ and $\\phi_0$.  Without loss of generality we can set $\\phi_0=0$.  If $I_1=1$, $a=5$, $Mg\\ell=3$ and the top starts at $\\cos\\theta_0=0.75$, plot the path of the top i.e. plot $\\cos\\theta(t)$ vs. $\\phi(t)/2\\pi$.\n",
    "\n",
    "The trajectory moves back and forth between $\\theta_{\\rm min}=\\theta_0$ and $\\theta_{\\rm max}$.  What is the \"shape\" of the curve near $\\theta=\\theta_0$?"
   ]
  },
  {
   "cell_type": "markdown",
   "id": "fb35d50e-fd7a-4bd0-885f-6bd92ecedee4",
   "metadata": {},
   "source": [
    "# The End"
   ]
  }
 ],
 "metadata": {
  "kernelspec": {
   "display_name": "Python 3 (ipykernel)",
   "language": "python",
   "name": "python3"
  },
  "language_info": {
   "codemirror_mode": {
    "name": "ipython",
    "version": 3
   },
   "file_extension": ".py",
   "mimetype": "text/x-python",
   "name": "python",
   "nbconvert_exporter": "python",
   "pygments_lexer": "ipython3",
   "version": "3.11.13"
  }
 },
 "nbformat": 4,
 "nbformat_minor": 5
}
