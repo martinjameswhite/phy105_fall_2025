{
 "cells": [
  {
   "cell_type": "code",
   "execution_count": null,
   "id": "17fcf97d",
   "metadata": {
    "deletable": false,
    "editable": false
   },
   "outputs": [],
   "source": [
    "# Initialize Otter\n",
    "import otter\n",
    "grader = otter.Notebook(\"OtterTest.ipynb\")"
   ]
  },
  {
   "cell_type": "code",
   "execution_count": null,
   "id": "632c7906-21ed-4d91-a340-b2196a78b511",
   "metadata": {},
   "outputs": [],
   "source": [
    "import numpy as np"
   ]
  },
  {
   "cell_type": "markdown",
   "id": "5f483481-3f54-4964-9604-b741e1629f59",
   "metadata": {},
   "source": [
    "# Otter grader\n",
    "\n",
    "We will be using the \"programming assignment\" feature in Gradescope to handle the midterm and final exam submissions, as Jupyter notebooks.  The purpose of this \"assignment\" is just to give you practice with how it works, and what you need to do outside of exams conditions.\n",
    "\n",
    "Fill in the answers in the cells below (it should take $\\le 5$ minutes!), then save this notebook and upload it to Gradescope.  You can upload either the .ipynb file or a .zip file containing the notebook."
   ]
  },
  {
   "cell_type": "code",
   "execution_count": null,
   "id": "5ee838ee-0a07-426a-bca3-5e2e1763126e",
   "metadata": {
    "otter": {
     "tests": [
      "q1"
     ]
    },
    "tags": [
     "otter_answer_cell"
    ]
   },
   "outputs": [],
   "source": [
    "# Define a function, taking two arguments x and y,\n",
    "# that returns the sum of the two numbers.\n",
    "def add_together(x,y):\n",
    "    ans = ...\n",
    "    return(ans)"
   ]
  },
  {
   "cell_type": "markdown",
   "id": "961cba78-2e50-440b-ad83-809e3cf9817f",
   "metadata": {
    "deletable": false,
    "editable": false
   },
   "source": [
    "A particle of mass $m$ moves in 1D under the influence of a potential $V(q)=(1/2)kq^2$.  The Lagrangian is\n",
    "$$\n",
    "  L = T - V = \\frac{1}{2}m\\dot{q}^2 - \\frac{1}{2}kq^2\n",
    "$$\n",
    "Write a function that returns this Lagrangian given $m$, $k$, $q$ and $\\dot{q}$:"
   ]
  },
  {
   "cell_type": "code",
   "execution_count": null,
   "id": "ecf78c84-6acc-4047-b477-dc47cfd1bb85",
   "metadata": {
    "otter": {
     "tests": [
      "q2"
     ]
    },
    "tags": [
     "otter_answer_cell"
    ]
   },
   "outputs": [],
   "source": [
    "# Define a function taking m,k,q,qdot as arguments that returns this Lagrangian.\n",
    "def lagrangian(m,k,q,qdot):\n",
    "...\n",
    "    return(L)"
   ]
  },
  {
   "cell_type": "markdown",
   "id": "925fa0d3",
   "metadata": {
    "deletable": false,
    "editable": false
   },
   "source": [
    "## Submission\n",
    "\n",
    "Make sure you have run all cells in your notebook in order before running the cell below, so that all images/graphs appear in the output. The cell below will generate a zip file for you to submit.\n",
    "\n",
    "Upload the .ipynb or .zip file to Gradescope!"
   ]
  },
  {
   "cell_type": "code",
   "execution_count": null,
   "id": "8dda42d7",
   "metadata": {
    "deletable": false,
    "editable": false
   },
   "outputs": [],
   "source": [
    "grader.export(pdf=False, force_save=True, run_tests=True)"
   ]
  },
  {
   "cell_type": "markdown",
   "id": "1f9996ca",
   "metadata": {},
   "source": [
    " "
   ]
  }
 ],
 "metadata": {
  "kernelspec": {
   "display_name": "Python 3 (ipykernel)",
   "language": "python",
   "name": "python3"
  },
  "language_info": {
   "codemirror_mode": {
    "name": "ipython",
    "version": 3
   },
   "file_extension": ".py",
   "mimetype": "text/x-python",
   "name": "python",
   "nbconvert_exporter": "python",
   "pygments_lexer": "ipython3",
   "version": "3.11.13"
  },
  "otter": {
   "OK_FORMAT": true,
   "assignment_name": "Otter_Grader_Test",
   "tests": {
    "q1": {
     "name": "q1",
     "points": null,
     "suites": [
      {
       "cases": [],
       "scored": true,
       "setup": "",
       "teardown": "",
       "type": "doctest"
      }
     ]
    },
    "q2": {
     "name": "q2",
     "points": null,
     "suites": [
      {
       "cases": [],
       "scored": true,
       "setup": "",
       "teardown": "",
       "type": "doctest"
      }
     ]
    }
   }
  }
 },
 "nbformat": 4,
 "nbformat_minor": 5
}
